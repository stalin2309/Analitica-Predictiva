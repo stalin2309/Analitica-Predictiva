{
 "cells": [
  {
   "cell_type": "markdown",
   "id": "37676b1c",
   "metadata": {},
   "source": [
    "# S4- CASO PRACTICO-BDD FINAL"
   ]
  },
  {
   "cell_type": "markdown",
   "id": "eba1edcd",
   "metadata": {},
   "source": [
    "### Nombre: Stalin Carrión Pardo."
   ]
  },
  {
   "cell_type": "markdown",
   "id": "5fe0eeba",
   "metadata": {},
   "source": [
    "1. Importe la base de datos a una base en Jupyter Notebook con pandas. \n",
    "2. Obtenga los descriptivos resumen de la base de datos e identifique a las variables numéricas y categóricas. ¿Hay algo que le llame la atención? \n",
    "3. Evalúe si la base contiene datos perdidos.\n",
    "4. Evalúe si alguna de las variables contiene datos atípicos (outliers) \n",
    "   * De ser el caso, detalle cuáles y qué método estadístico aplicarán para corregir. \n",
    "5. Grafique las distribuciones de las variables y a priori comente sobre ellas. \n",
    "6. Obtenga las correlaciones entre los datos de corte numérico. \n",
    "7. Comente que variable escogerán como variable dependiente y que variables introducirán a su modelo.\n",
    "8. Indique que tipo de modelación realizarán y porqué. \n",
    "9. Verifique los supuestos, de haber escogido el enfoque econométrico. \n",
    "10. Obtenga el modelo definitivo, prediga los valores y comente el grado de ajuste del modelo. Justifique con métricas su respuesta.\n",
    "11. Grafique a los valores predicho de modelo vs los valores reales.\n",
    " * ¿Cómo se ven una vez graficados frente a los valores reales? Argumente su respuesta. \n",
    "12. Concluya sobre su modelo. Para ello, si escogió el enfoque econométrico, interprete coeficientes, por el contrario si escogió el enfoque de machine learning, determine cuáles son las variables que tienen mayor poder explicativo sobre su variable objetivo. \n",
    "13. Suba su proyecto final en su cuenta de Github y adjunte una captura de pantalla en esta plataforma. "
   ]
  },
  {
   "cell_type": "markdown",
   "id": "7a549e15",
   "metadata": {},
   "source": [
    "## DESARROLLO:"
   ]
  },
  {
   "cell_type": "markdown",
   "id": "0b500ff7",
   "metadata": {},
   "source": [
    "## 1. Importe la base de datos a una base en Jupyter Notebook con pandas. "
   ]
  },
  {
   "cell_type": "code",
   "execution_count": 1,
   "id": "909253c0",
   "metadata": {},
   "outputs": [],
   "source": [
    "# SE IMPORTA LAS LIBRERIAS\n",
    "import numpy as np\n",
    "import pandas as pd\n",
    "import matplotlib.pyplot as plt\n",
    "import seaborn as sns\n",
    "\n",
    "import warnings\n",
    "warnings.filterwarnings(\"ignore\")"
   ]
  },
  {
   "cell_type": "code",
   "execution_count": 2,
   "id": "09da9c64",
   "metadata": {},
   "outputs": [],
   "source": [
    "# PARA REGRESION Y VALIDACION DE SUPUESTOS LLAMAMOS A STATSMODEL\n",
    "import statsmodels.api as sm\n",
    "import statsmodels.formula.api as sms"
   ]
  },
  {
   "cell_type": "code",
   "execution_count": 3,
   "id": "8bf0cf1d",
   "metadata": {},
   "outputs": [
    {
     "data": {
      "text/html": [
       "<div>\n",
       "<style scoped>\n",
       "    .dataframe tbody tr th:only-of-type {\n",
       "        vertical-align: middle;\n",
       "    }\n",
       "\n",
       "    .dataframe tbody tr th {\n",
       "        vertical-align: top;\n",
       "    }\n",
       "\n",
       "    .dataframe thead th {\n",
       "        text-align: right;\n",
       "    }\n",
       "</style>\n",
       "<table border=\"1\" class=\"dataframe\">\n",
       "  <thead>\n",
       "    <tr style=\"text-align: right;\">\n",
       "      <th></th>\n",
       "      <th>Store</th>\n",
       "      <th>Date</th>\n",
       "      <th>Weekly_Sales</th>\n",
       "      <th>Holiday_Flag</th>\n",
       "      <th>Temperature</th>\n",
       "      <th>Fuel_Price</th>\n",
       "      <th>CPI</th>\n",
       "      <th>Unemployment</th>\n",
       "    </tr>\n",
       "  </thead>\n",
       "  <tbody>\n",
       "    <tr>\n",
       "      <th>0</th>\n",
       "      <td>1</td>\n",
       "      <td>05-02-2010</td>\n",
       "      <td>1643690.90</td>\n",
       "      <td>0</td>\n",
       "      <td>42.31</td>\n",
       "      <td>2.572</td>\n",
       "      <td>211.096358</td>\n",
       "      <td>8.106</td>\n",
       "    </tr>\n",
       "    <tr>\n",
       "      <th>1</th>\n",
       "      <td>1</td>\n",
       "      <td>12-02-2010</td>\n",
       "      <td>1641957.44</td>\n",
       "      <td>1</td>\n",
       "      <td>38.51</td>\n",
       "      <td>2.548</td>\n",
       "      <td>211.242170</td>\n",
       "      <td>8.106</td>\n",
       "    </tr>\n",
       "    <tr>\n",
       "      <th>2</th>\n",
       "      <td>1</td>\n",
       "      <td>19-02-2010</td>\n",
       "      <td>1611968.17</td>\n",
       "      <td>0</td>\n",
       "      <td>39.93</td>\n",
       "      <td>2.514</td>\n",
       "      <td>211.289143</td>\n",
       "      <td>8.106</td>\n",
       "    </tr>\n",
       "    <tr>\n",
       "      <th>3</th>\n",
       "      <td>1</td>\n",
       "      <td>26-02-2010</td>\n",
       "      <td>1409727.59</td>\n",
       "      <td>0</td>\n",
       "      <td>46.63</td>\n",
       "      <td>2.561</td>\n",
       "      <td>211.319643</td>\n",
       "      <td>8.106</td>\n",
       "    </tr>\n",
       "    <tr>\n",
       "      <th>4</th>\n",
       "      <td>1</td>\n",
       "      <td>05-03-2010</td>\n",
       "      <td>1554806.68</td>\n",
       "      <td>0</td>\n",
       "      <td>46.50</td>\n",
       "      <td>2.625</td>\n",
       "      <td>211.350143</td>\n",
       "      <td>8.106</td>\n",
       "    </tr>\n",
       "    <tr>\n",
       "      <th>...</th>\n",
       "      <td>...</td>\n",
       "      <td>...</td>\n",
       "      <td>...</td>\n",
       "      <td>...</td>\n",
       "      <td>...</td>\n",
       "      <td>...</td>\n",
       "      <td>...</td>\n",
       "      <td>...</td>\n",
       "    </tr>\n",
       "    <tr>\n",
       "      <th>6430</th>\n",
       "      <td>45</td>\n",
       "      <td>28-09-2012</td>\n",
       "      <td>713173.95</td>\n",
       "      <td>0</td>\n",
       "      <td>64.88</td>\n",
       "      <td>3.997</td>\n",
       "      <td>192.013558</td>\n",
       "      <td>8.684</td>\n",
       "    </tr>\n",
       "    <tr>\n",
       "      <th>6431</th>\n",
       "      <td>45</td>\n",
       "      <td>05-10-2012</td>\n",
       "      <td>733455.07</td>\n",
       "      <td>0</td>\n",
       "      <td>64.89</td>\n",
       "      <td>3.985</td>\n",
       "      <td>192.170412</td>\n",
       "      <td>8.667</td>\n",
       "    </tr>\n",
       "    <tr>\n",
       "      <th>6432</th>\n",
       "      <td>45</td>\n",
       "      <td>12-10-2012</td>\n",
       "      <td>734464.36</td>\n",
       "      <td>0</td>\n",
       "      <td>54.47</td>\n",
       "      <td>4.000</td>\n",
       "      <td>192.327265</td>\n",
       "      <td>8.667</td>\n",
       "    </tr>\n",
       "    <tr>\n",
       "      <th>6433</th>\n",
       "      <td>45</td>\n",
       "      <td>19-10-2012</td>\n",
       "      <td>718125.53</td>\n",
       "      <td>0</td>\n",
       "      <td>56.47</td>\n",
       "      <td>3.969</td>\n",
       "      <td>192.330854</td>\n",
       "      <td>8.667</td>\n",
       "    </tr>\n",
       "    <tr>\n",
       "      <th>6434</th>\n",
       "      <td>45</td>\n",
       "      <td>26-10-2012</td>\n",
       "      <td>760281.43</td>\n",
       "      <td>0</td>\n",
       "      <td>58.85</td>\n",
       "      <td>3.882</td>\n",
       "      <td>192.308899</td>\n",
       "      <td>8.667</td>\n",
       "    </tr>\n",
       "  </tbody>\n",
       "</table>\n",
       "<p>6435 rows × 8 columns</p>\n",
       "</div>"
      ],
      "text/plain": [
       "      Store        Date  Weekly_Sales  Holiday_Flag  Temperature  Fuel_Price  \\\n",
       "0         1  05-02-2010    1643690.90             0        42.31       2.572   \n",
       "1         1  12-02-2010    1641957.44             1        38.51       2.548   \n",
       "2         1  19-02-2010    1611968.17             0        39.93       2.514   \n",
       "3         1  26-02-2010    1409727.59             0        46.63       2.561   \n",
       "4         1  05-03-2010    1554806.68             0        46.50       2.625   \n",
       "...     ...         ...           ...           ...          ...         ...   \n",
       "6430     45  28-09-2012     713173.95             0        64.88       3.997   \n",
       "6431     45  05-10-2012     733455.07             0        64.89       3.985   \n",
       "6432     45  12-10-2012     734464.36             0        54.47       4.000   \n",
       "6433     45  19-10-2012     718125.53             0        56.47       3.969   \n",
       "6434     45  26-10-2012     760281.43             0        58.85       3.882   \n",
       "\n",
       "             CPI  Unemployment  \n",
       "0     211.096358         8.106  \n",
       "1     211.242170         8.106  \n",
       "2     211.289143         8.106  \n",
       "3     211.319643         8.106  \n",
       "4     211.350143         8.106  \n",
       "...          ...           ...  \n",
       "6430  192.013558         8.684  \n",
       "6431  192.170412         8.667  \n",
       "6432  192.327265         8.667  \n",
       "6433  192.330854         8.667  \n",
       "6434  192.308899         8.667  \n",
       "\n",
       "[6435 rows x 8 columns]"
      ]
     },
     "execution_count": 3,
     "metadata": {},
     "output_type": "execute_result"
    }
   ],
   "source": [
    "df=pd.read_csv(\"Walmart(1).csv\")\n",
    "df"
   ]
  },
  {
   "cell_type": "markdown",
   "id": "ebdd50d9",
   "metadata": {},
   "source": [
    "### Recodificar el nombre de las columnas a español"
   ]
  },
  {
   "cell_type": "code",
   "execution_count": 4,
   "id": "ebda099e",
   "metadata": {},
   "outputs": [
    {
     "data": {
      "text/html": [
       "<div>\n",
       "<style scoped>\n",
       "    .dataframe tbody tr th:only-of-type {\n",
       "        vertical-align: middle;\n",
       "    }\n",
       "\n",
       "    .dataframe tbody tr th {\n",
       "        vertical-align: top;\n",
       "    }\n",
       "\n",
       "    .dataframe thead th {\n",
       "        text-align: right;\n",
       "    }\n",
       "</style>\n",
       "<table border=\"1\" class=\"dataframe\">\n",
       "  <thead>\n",
       "    <tr style=\"text-align: right;\">\n",
       "      <th></th>\n",
       "      <th>Tienda</th>\n",
       "      <th>Fecha</th>\n",
       "      <th>Ventas_Tienda</th>\n",
       "      <th>Bandera_Semana</th>\n",
       "      <th>Temperatura</th>\n",
       "      <th>Precio_Combustible</th>\n",
       "      <th>CPI</th>\n",
       "      <th>Desempleo</th>\n",
       "    </tr>\n",
       "  </thead>\n",
       "  <tbody>\n",
       "    <tr>\n",
       "      <th>0</th>\n",
       "      <td>1</td>\n",
       "      <td>05-02-2010</td>\n",
       "      <td>1643690.90</td>\n",
       "      <td>0</td>\n",
       "      <td>42.31</td>\n",
       "      <td>2.572</td>\n",
       "      <td>211.096358</td>\n",
       "      <td>8.106</td>\n",
       "    </tr>\n",
       "    <tr>\n",
       "      <th>1</th>\n",
       "      <td>1</td>\n",
       "      <td>12-02-2010</td>\n",
       "      <td>1641957.44</td>\n",
       "      <td>1</td>\n",
       "      <td>38.51</td>\n",
       "      <td>2.548</td>\n",
       "      <td>211.242170</td>\n",
       "      <td>8.106</td>\n",
       "    </tr>\n",
       "    <tr>\n",
       "      <th>2</th>\n",
       "      <td>1</td>\n",
       "      <td>19-02-2010</td>\n",
       "      <td>1611968.17</td>\n",
       "      <td>0</td>\n",
       "      <td>39.93</td>\n",
       "      <td>2.514</td>\n",
       "      <td>211.289143</td>\n",
       "      <td>8.106</td>\n",
       "    </tr>\n",
       "    <tr>\n",
       "      <th>3</th>\n",
       "      <td>1</td>\n",
       "      <td>26-02-2010</td>\n",
       "      <td>1409727.59</td>\n",
       "      <td>0</td>\n",
       "      <td>46.63</td>\n",
       "      <td>2.561</td>\n",
       "      <td>211.319643</td>\n",
       "      <td>8.106</td>\n",
       "    </tr>\n",
       "    <tr>\n",
       "      <th>4</th>\n",
       "      <td>1</td>\n",
       "      <td>05-03-2010</td>\n",
       "      <td>1554806.68</td>\n",
       "      <td>0</td>\n",
       "      <td>46.50</td>\n",
       "      <td>2.625</td>\n",
       "      <td>211.350143</td>\n",
       "      <td>8.106</td>\n",
       "    </tr>\n",
       "    <tr>\n",
       "      <th>...</th>\n",
       "      <td>...</td>\n",
       "      <td>...</td>\n",
       "      <td>...</td>\n",
       "      <td>...</td>\n",
       "      <td>...</td>\n",
       "      <td>...</td>\n",
       "      <td>...</td>\n",
       "      <td>...</td>\n",
       "    </tr>\n",
       "    <tr>\n",
       "      <th>6430</th>\n",
       "      <td>45</td>\n",
       "      <td>28-09-2012</td>\n",
       "      <td>713173.95</td>\n",
       "      <td>0</td>\n",
       "      <td>64.88</td>\n",
       "      <td>3.997</td>\n",
       "      <td>192.013558</td>\n",
       "      <td>8.684</td>\n",
       "    </tr>\n",
       "    <tr>\n",
       "      <th>6431</th>\n",
       "      <td>45</td>\n",
       "      <td>05-10-2012</td>\n",
       "      <td>733455.07</td>\n",
       "      <td>0</td>\n",
       "      <td>64.89</td>\n",
       "      <td>3.985</td>\n",
       "      <td>192.170412</td>\n",
       "      <td>8.667</td>\n",
       "    </tr>\n",
       "    <tr>\n",
       "      <th>6432</th>\n",
       "      <td>45</td>\n",
       "      <td>12-10-2012</td>\n",
       "      <td>734464.36</td>\n",
       "      <td>0</td>\n",
       "      <td>54.47</td>\n",
       "      <td>4.000</td>\n",
       "      <td>192.327265</td>\n",
       "      <td>8.667</td>\n",
       "    </tr>\n",
       "    <tr>\n",
       "      <th>6433</th>\n",
       "      <td>45</td>\n",
       "      <td>19-10-2012</td>\n",
       "      <td>718125.53</td>\n",
       "      <td>0</td>\n",
       "      <td>56.47</td>\n",
       "      <td>3.969</td>\n",
       "      <td>192.330854</td>\n",
       "      <td>8.667</td>\n",
       "    </tr>\n",
       "    <tr>\n",
       "      <th>6434</th>\n",
       "      <td>45</td>\n",
       "      <td>26-10-2012</td>\n",
       "      <td>760281.43</td>\n",
       "      <td>0</td>\n",
       "      <td>58.85</td>\n",
       "      <td>3.882</td>\n",
       "      <td>192.308899</td>\n",
       "      <td>8.667</td>\n",
       "    </tr>\n",
       "  </tbody>\n",
       "</table>\n",
       "<p>6435 rows × 8 columns</p>\n",
       "</div>"
      ],
      "text/plain": [
       "      Tienda       Fecha  Ventas_Tienda  Bandera_Semana  Temperatura  \\\n",
       "0          1  05-02-2010     1643690.90               0        42.31   \n",
       "1          1  12-02-2010     1641957.44               1        38.51   \n",
       "2          1  19-02-2010     1611968.17               0        39.93   \n",
       "3          1  26-02-2010     1409727.59               0        46.63   \n",
       "4          1  05-03-2010     1554806.68               0        46.50   \n",
       "...      ...         ...            ...             ...          ...   \n",
       "6430      45  28-09-2012      713173.95               0        64.88   \n",
       "6431      45  05-10-2012      733455.07               0        64.89   \n",
       "6432      45  12-10-2012      734464.36               0        54.47   \n",
       "6433      45  19-10-2012      718125.53               0        56.47   \n",
       "6434      45  26-10-2012      760281.43               0        58.85   \n",
       "\n",
       "      Precio_Combustible         CPI  Desempleo  \n",
       "0                  2.572  211.096358      8.106  \n",
       "1                  2.548  211.242170      8.106  \n",
       "2                  2.514  211.289143      8.106  \n",
       "3                  2.561  211.319643      8.106  \n",
       "4                  2.625  211.350143      8.106  \n",
       "...                  ...         ...        ...  \n",
       "6430               3.997  192.013558      8.684  \n",
       "6431               3.985  192.170412      8.667  \n",
       "6432               4.000  192.327265      8.667  \n",
       "6433               3.969  192.330854      8.667  \n",
       "6434               3.882  192.308899      8.667  \n",
       "\n",
       "[6435 rows x 8 columns]"
      ]
     },
     "execution_count": 4,
     "metadata": {},
     "output_type": "execute_result"
    }
   ],
   "source": [
    "df.rename({'Store':'Tienda', 'Date': 'Fecha', 'Weekly_Sales': 'Ventas_Tienda', 'Holiday_Flag': 'Bandera_Semana', \n",
    "           'Temperature': 'Temperatura', 'Fuel_Price': 'Precio_Combustible', 'CPI': 'CPI', 'Unemployment': 'Desempleo'\n",
    "          }, axis=1, inplace=True)\n",
    "df"
   ]
  },
  {
   "cell_type": "markdown",
   "id": "e94960fd",
   "metadata": {},
   "source": [
    "## 2. Obtenga los descriptivos resumen de la base de datos e identifique a las variables numéricas y categóricas. ¿Hay algo que le llame la atención? "
   ]
  },
  {
   "cell_type": "code",
   "execution_count": 5,
   "id": "e5dd74f8",
   "metadata": {},
   "outputs": [
    {
     "data": {
      "text/html": [
       "<div>\n",
       "<style scoped>\n",
       "    .dataframe tbody tr th:only-of-type {\n",
       "        vertical-align: middle;\n",
       "    }\n",
       "\n",
       "    .dataframe tbody tr th {\n",
       "        vertical-align: top;\n",
       "    }\n",
       "\n",
       "    .dataframe thead th {\n",
       "        text-align: right;\n",
       "    }\n",
       "</style>\n",
       "<table border=\"1\" class=\"dataframe\">\n",
       "  <thead>\n",
       "    <tr style=\"text-align: right;\">\n",
       "      <th></th>\n",
       "      <th>Tienda</th>\n",
       "      <th>Ventas_Tienda</th>\n",
       "      <th>Bandera_Semana</th>\n",
       "      <th>Temperatura</th>\n",
       "      <th>Precio_Combustible</th>\n",
       "      <th>CPI</th>\n",
       "      <th>Desempleo</th>\n",
       "    </tr>\n",
       "  </thead>\n",
       "  <tbody>\n",
       "    <tr>\n",
       "      <th>count</th>\n",
       "      <td>6435.000000</td>\n",
       "      <td>6.435000e+03</td>\n",
       "      <td>6435.000000</td>\n",
       "      <td>6435.000000</td>\n",
       "      <td>6435.000000</td>\n",
       "      <td>6435.000000</td>\n",
       "      <td>6435.000000</td>\n",
       "    </tr>\n",
       "    <tr>\n",
       "      <th>mean</th>\n",
       "      <td>23.000000</td>\n",
       "      <td>1.046965e+06</td>\n",
       "      <td>0.069930</td>\n",
       "      <td>60.663782</td>\n",
       "      <td>3.358607</td>\n",
       "      <td>171.578394</td>\n",
       "      <td>7.999151</td>\n",
       "    </tr>\n",
       "    <tr>\n",
       "      <th>std</th>\n",
       "      <td>12.988182</td>\n",
       "      <td>5.643666e+05</td>\n",
       "      <td>0.255049</td>\n",
       "      <td>18.444933</td>\n",
       "      <td>0.459020</td>\n",
       "      <td>39.356712</td>\n",
       "      <td>1.875885</td>\n",
       "    </tr>\n",
       "    <tr>\n",
       "      <th>min</th>\n",
       "      <td>1.000000</td>\n",
       "      <td>2.099862e+05</td>\n",
       "      <td>0.000000</td>\n",
       "      <td>-2.060000</td>\n",
       "      <td>2.472000</td>\n",
       "      <td>126.064000</td>\n",
       "      <td>3.879000</td>\n",
       "    </tr>\n",
       "    <tr>\n",
       "      <th>25%</th>\n",
       "      <td>12.000000</td>\n",
       "      <td>5.533501e+05</td>\n",
       "      <td>0.000000</td>\n",
       "      <td>47.460000</td>\n",
       "      <td>2.933000</td>\n",
       "      <td>131.735000</td>\n",
       "      <td>6.891000</td>\n",
       "    </tr>\n",
       "    <tr>\n",
       "      <th>50%</th>\n",
       "      <td>23.000000</td>\n",
       "      <td>9.607460e+05</td>\n",
       "      <td>0.000000</td>\n",
       "      <td>62.670000</td>\n",
       "      <td>3.445000</td>\n",
       "      <td>182.616521</td>\n",
       "      <td>7.874000</td>\n",
       "    </tr>\n",
       "    <tr>\n",
       "      <th>75%</th>\n",
       "      <td>34.000000</td>\n",
       "      <td>1.420159e+06</td>\n",
       "      <td>0.000000</td>\n",
       "      <td>74.940000</td>\n",
       "      <td>3.735000</td>\n",
       "      <td>212.743293</td>\n",
       "      <td>8.622000</td>\n",
       "    </tr>\n",
       "    <tr>\n",
       "      <th>max</th>\n",
       "      <td>45.000000</td>\n",
       "      <td>3.818686e+06</td>\n",
       "      <td>1.000000</td>\n",
       "      <td>100.140000</td>\n",
       "      <td>4.468000</td>\n",
       "      <td>227.232807</td>\n",
       "      <td>14.313000</td>\n",
       "    </tr>\n",
       "  </tbody>\n",
       "</table>\n",
       "</div>"
      ],
      "text/plain": [
       "            Tienda  Ventas_Tienda  Bandera_Semana  Temperatura  \\\n",
       "count  6435.000000   6.435000e+03     6435.000000  6435.000000   \n",
       "mean     23.000000   1.046965e+06        0.069930    60.663782   \n",
       "std      12.988182   5.643666e+05        0.255049    18.444933   \n",
       "min       1.000000   2.099862e+05        0.000000    -2.060000   \n",
       "25%      12.000000   5.533501e+05        0.000000    47.460000   \n",
       "50%      23.000000   9.607460e+05        0.000000    62.670000   \n",
       "75%      34.000000   1.420159e+06        0.000000    74.940000   \n",
       "max      45.000000   3.818686e+06        1.000000   100.140000   \n",
       "\n",
       "       Precio_Combustible          CPI    Desempleo  \n",
       "count         6435.000000  6435.000000  6435.000000  \n",
       "mean             3.358607   171.578394     7.999151  \n",
       "std              0.459020    39.356712     1.875885  \n",
       "min              2.472000   126.064000     3.879000  \n",
       "25%              2.933000   131.735000     6.891000  \n",
       "50%              3.445000   182.616521     7.874000  \n",
       "75%              3.735000   212.743293     8.622000  \n",
       "max              4.468000   227.232807    14.313000  "
      ]
     },
     "execution_count": 5,
     "metadata": {},
     "output_type": "execute_result"
    }
   ],
   "source": [
    "# Descripción de variables numéricas:\n",
    "df.describe() "
   ]
  },
  {
   "cell_type": "code",
   "execution_count": 6,
   "id": "9bcc76a2",
   "metadata": {},
   "outputs": [
    {
     "data": {
      "text/html": [
       "<div>\n",
       "<style scoped>\n",
       "    .dataframe tbody tr th:only-of-type {\n",
       "        vertical-align: middle;\n",
       "    }\n",
       "\n",
       "    .dataframe tbody tr th {\n",
       "        vertical-align: top;\n",
       "    }\n",
       "\n",
       "    .dataframe thead th {\n",
       "        text-align: right;\n",
       "    }\n",
       "</style>\n",
       "<table border=\"1\" class=\"dataframe\">\n",
       "  <thead>\n",
       "    <tr style=\"text-align: right;\">\n",
       "      <th></th>\n",
       "      <th>Fecha</th>\n",
       "    </tr>\n",
       "  </thead>\n",
       "  <tbody>\n",
       "    <tr>\n",
       "      <th>count</th>\n",
       "      <td>6435</td>\n",
       "    </tr>\n",
       "    <tr>\n",
       "      <th>unique</th>\n",
       "      <td>143</td>\n",
       "    </tr>\n",
       "    <tr>\n",
       "      <th>top</th>\n",
       "      <td>05-02-2010</td>\n",
       "    </tr>\n",
       "    <tr>\n",
       "      <th>freq</th>\n",
       "      <td>45</td>\n",
       "    </tr>\n",
       "  </tbody>\n",
       "</table>\n",
       "</div>"
      ],
      "text/plain": [
       "             Fecha\n",
       "count         6435\n",
       "unique         143\n",
       "top     05-02-2010\n",
       "freq            45"
      ]
     },
     "execution_count": 6,
     "metadata": {},
     "output_type": "execute_result"
    }
   ],
   "source": [
    "# Descripción de variables cualitativas:\n",
    "df.describe(include = 'object')"
   ]
  },
  {
   "cell_type": "markdown",
   "id": "40dd6e50",
   "metadata": {},
   "source": [
    "Existe una sola  variavle categórica.\n",
    "* A continuación se presenta una forma más clásica de mostrar datos categóricos: un gráfico de barras"
   ]
  },
  {
   "cell_type": "code",
   "execution_count": 7,
   "id": "54253eeb",
   "metadata": {},
   "outputs": [
    {
     "data": {
      "image/png": "[encoded data removed]",
      "text/plain": [
       "<Figure size 432x288 with 1 Axes>"
      ]
     },
     "metadata": {
      "needs_background": "light"
     },
     "output_type": "display_data"
    }
   ],
   "source": [
    "for i in df.select_dtypes(['object']).columns.difference(['modelo']):\n",
    "    if df[i].dtype=='object':\n",
    "        df[i].value_counts().plot(kind='bar', title=str(i))\n",
    "        plt.show()"
   ]
  },
  {
   "cell_type": "code",
   "execution_count": 8,
   "id": "0094494d",
   "metadata": {},
   "outputs": [
    {
     "data": {
      "text/plain": [
       "Tienda                  int64\n",
       "Fecha                  object\n",
       "Ventas_Tienda         float64\n",
       "Bandera_Semana          int64\n",
       "Temperatura           float64\n",
       "Precio_Combustible    float64\n",
       "CPI                   float64\n",
       "Desempleo             float64\n",
       "dtype: object"
      ]
     },
     "execution_count": 8,
     "metadata": {},
     "output_type": "execute_result"
    }
   ],
   "source": [
    "df.dtypes"
   ]
  },
  {
   "cell_type": "markdown",
   "id": "b1b37546",
   "metadata": {},
   "source": [
    "¿Hay algo que le llame la atención?\n",
    "* Existen 45 tiendas.\n",
    "* El valor de las ventas es bastante alto.\n",
    "* La tasa de desempleo es bastante alta."
   ]
  },
  {
   "cell_type": "markdown",
   "id": "92f36892",
   "metadata": {},
   "source": [
    "## 3. Evalúe si la base contiene datos perdidos."
   ]
  },
  {
   "cell_type": "code",
   "execution_count": 9,
   "id": "52f0dcb0",
   "metadata": {},
   "outputs": [
    {
     "data": {
      "text/plain": [
       "Tienda                0\n",
       "Fecha                 0\n",
       "Ventas_Tienda         0\n",
       "Bandera_Semana        0\n",
       "Temperatura           0\n",
       "Precio_Combustible    0\n",
       "CPI                   0\n",
       "Desempleo             0\n",
       "dtype: int64"
      ]
     },
     "execution_count": 9,
     "metadata": {},
     "output_type": "execute_result"
    }
   ],
   "source": [
    "# Revisar datos perdidos:\n",
    "df.isna().sum() "
   ]
  },
  {
   "cell_type": "markdown",
   "id": "9b65c087",
   "metadata": {},
   "source": [
    "Observado el resultado anterior, se puede verificar que no existen valores perdidos."
   ]
  },
  {
   "cell_type": "markdown",
   "id": "13d3c60a",
   "metadata": {},
   "source": [
    "## 4. Evalúe si alguna de las variables contiene datos atípicos (outliers)\n",
    "###   * De ser el caso, detalle cuáles y qué método estadístico aplicarán para corregir."
   ]
  },
  {
   "cell_type": "code",
   "execution_count": 10,
   "id": "2599b883",
   "metadata": {},
   "outputs": [
    {
     "data": {
      "image/png": "[encoded data removed]",
      "text/plain": [
       "<Figure size 1080x720 with 9 Axes>"
      ]
     },
     "metadata": {
      "needs_background": "light"
     },
     "output_type": "display_data"
    }
   ],
   "source": [
    "fig, axs = plt.subplots(3,3, figsize = (15,10))\n",
    "plt1 = sns.boxplot(df['Tienda'], ax = axs[0,0]) # Número de la tienda.\n",
    "plt2 = sns.boxplot(df['Ventas_Tienda'], ax = axs[0,1]) # Ventas para la tienda dada.\n",
    "plt3 = sns.boxplot(df['Bandera_Semana'], ax = axs[0,2]) # 1 Semana de vacaciones, 0 semana no festiva.\n",
    "plt4 = sns.boxplot(df['Temperatura'], ax = axs[1,0]) # Temperatura del día de la venta.\n",
    "plt5 = sns.boxplot(df['Precio_Combustible'], ax = axs[1,1]) # Costo del combustible en la región.\n",
    "plt6 = sns.boxplot(df['CPI'], ax = axs[1,2]) # Índice de precios al consumidor vigente\n",
    "plt7 = sns.boxplot(df['Desempleo'], ax = axs[2,0]) # Tasa de desempleo predominante.\n",
    "plt.tight_layout()"
   ]
  },
  {
   "cell_type": "markdown",
   "id": "d894cae4",
   "metadata": {},
   "source": [
    "De acuerdo con el resultado anterior, se puede visualizar que las variables cuantitativas con datos atipicos son Ventas_Tienda, Bandera_Semana, Temperatura y Desempleo. El método estádistico que se utilizara para la remocion de datos atipicos sera el IQR."
   ]
  },
  {
   "cell_type": "code",
   "execution_count": 11,
   "id": "23a3b6f6",
   "metadata": {},
   "outputs": [
    {
     "name": "stdout",
     "output_type": "stream",
     "text": [
      "\n",
      "IQR_Ventas_Tienda:  866808.5549999999\n",
      "\n",
      "Datos removidos de la variable Ventas_Tienda:  (6401, 8)\n"
     ]
    }
   ],
   "source": [
    "#IQR Para retiro de datos atipicos de la variable Ventas_Tienda\n",
    "Q1 = df['Ventas_Tienda'].quantile(0.25)\n",
    "Q3 = df['Ventas_Tienda'].quantile(0.75)\n",
    "IQR_Ventas_Tienda = Q3 - Q1  #rango intercuartil\n",
    "print('\\nIQR_Ventas_Tienda: ',IQR_Ventas_Tienda)\n",
    "\n",
    "# Retiro de datos atipicos de la variable Ventas_Tienda\n",
    "df = df[~((df['Ventas_Tienda'] < (Q1 - 1.5 * IQR_Ventas_Tienda)) |(df['Ventas_Tienda'] > (Q3 + 1.5 * IQR_Ventas_Tienda)))]\n",
    "print ('\\nDatos removidos de la variable Ventas_Tienda: ', df.shape)"
   ]
  },
  {
   "cell_type": "code",
   "execution_count": 12,
   "id": "3bf34853",
   "metadata": {},
   "outputs": [
    {
     "name": "stdout",
     "output_type": "stream",
     "text": [
      "\n",
      "IQR_Bandera_Semana:  0.0\n",
      "\n",
      "Datos removidos de la variable Bandera_Semana:  (5960, 8)\n"
     ]
    }
   ],
   "source": [
    "#IQR Para retiro de datos atipicos de la variable Bandera_Semana\n",
    "Q1 = df['Bandera_Semana'].quantile(0.25)\n",
    "Q3 = df['Bandera_Semana'].quantile(0.75)\n",
    "IQR_Bandera_Semana = Q3 - Q1  #rango intercuartil\n",
    "print('\\nIQR_Bandera_Semana: ',IQR_Bandera_Semana)\n",
    "\n",
    "# Retiro de datos atipicos de la variable Bandera_Semana\n",
    "df = df[~((df['Bandera_Semana'] < (Q1 - 1.5 * IQR_Bandera_Semana)) |(df['Bandera_Semana'] > (Q3 + 1.5 * IQR_Bandera_Semana)))]\n",
    "print ('\\nDatos removidos de la variable Bandera_Semana: ', df.shape)"
   ]
  },
  {
   "cell_type": "code",
   "execution_count": 13,
   "id": "56a4f962",
   "metadata": {},
   "outputs": [
    {
     "name": "stdout",
     "output_type": "stream",
     "text": [
      "\n",
      "IQR_Temperatura:  26.512499999999996\n",
      "\n",
      "Datos removidos de la variable Temperatura:  (5956, 8)\n"
     ]
    }
   ],
   "source": [
    "#IQR Para retiro de datos atipicos de la variable Temperatura\n",
    "Q1 = df['Temperatura'].quantile(0.25)\n",
    "Q3 = df['Temperatura'].quantile(0.75)\n",
    "IQR_Temperatura = Q3 - Q1  #rango intercuartil\n",
    "print('\\nIQR_Temperatura: ',IQR_Temperatura)\n",
    "\n",
    "# Retiro de datos atipicos de la variable Temperatura\n",
    "df = df[~((df['Temperatura'] < (Q1 - 1.5 * IQR_Temperatura)) |(df['Temperatura'] > (Q3 + 1.5 * IQR_Temperatura)))]\n",
    "print ('\\nDatos removidos de la variable Temperatura: ', df.shape)"
   ]
  },
  {
   "cell_type": "code",
   "execution_count": 14,
   "id": "d31c9c20",
   "metadata": {},
   "outputs": [
    {
     "name": "stdout",
     "output_type": "stream",
     "text": [
      "\n",
      "IQR_Desempleo:  1.7309999999999999\n",
      "\n",
      "Datos removidos de la variable Desempleo:  (5507, 8)\n"
     ]
    }
   ],
   "source": [
    "#IQR Para retiro de datos atipicos de la variable Desempleo\n",
    "Q1 = df['Desempleo'].quantile(0.25)\n",
    "Q3 = df['Desempleo'].quantile(0.75)\n",
    "IQR_Desempleo = Q3 - Q1  #rango intercuartil\n",
    "print('\\nIQR_Desempleo: ',IQR_Desempleo)\n",
    "\n",
    "# Retiro de datos atipicos de la variable Desempleo\n",
    "df = df[~((df['Desempleo'] < (Q1 - 1.5 * IQR_Desempleo)) |(df['Desempleo'] > (Q3 + 1.5 * IQR_Desempleo)))]\n",
    "print ('\\nDatos removidos de la variable Desempleo: ', df.shape)"
   ]
  },
  {
   "cell_type": "markdown",
   "id": "18a03799",
   "metadata": {},
   "source": [
    "## 5. Gráfique las distribuciones de las variables y a priori comente sobre ellas."
   ]
  },
  {
   "cell_type": "markdown",
   "id": "24e1d7f1",
   "metadata": {},
   "source": [
    "### Variable dependiente (Y) Ventas_Tienda"
   ]
  },
  {
   "cell_type": "code",
   "execution_count": 15,
   "id": "afbefc65",
   "metadata": {},
   "outputs": [
    {
     "data": {
      "text/plain": [
       "<AxesSubplot:xlabel='Ventas_Tienda', ylabel='Density'>"
      ]
     },
     "execution_count": 15,
     "metadata": {},
     "output_type": "execute_result"
    },
    {
     "data": {
      "image/png": "[encoded data removed]",
      "text/plain": [
       "<Figure size 432x288 with 1 Axes>"
      ]
     },
     "metadata": {
      "needs_background": "light"
     },
     "output_type": "display_data"
    }
   ],
   "source": [
    "sns.distplot(df['Ventas_Tienda'],color=\"yellow\")"
   ]
  },
  {
   "cell_type": "markdown",
   "id": "cef08db2",
   "metadata": {},
   "source": [
    "La variable independiente X2 Ventas_Tienda se oberva que tiene un sesgo a la derecha por lo que se aplicara el metodo IQR para retirar los valores atipicos."
   ]
  },
  {
   "cell_type": "code",
   "execution_count": 16,
   "id": "d3a342f7",
   "metadata": {},
   "outputs": [
    {
     "name": "stdout",
     "output_type": "stream",
     "text": [
      "871468.1\n"
     ]
    }
   ],
   "source": [
    "# Calculamos el Quartil 1 y Quartil 3 que son aquellos que nos permiten estimar los límites de los datos atípicos\n",
    "Q1 = df.Ventas_Tienda.quantile(0.25)\n",
    "Q3 = df.Ventas_Tienda.quantile(0.75)\n",
    "IQR = Q3 - Q1  #rango intercuartil\n",
    "print(IQR)"
   ]
  },
  {
   "cell_type": "code",
   "execution_count": 17,
   "id": "0a6a33cb",
   "metadata": {},
   "outputs": [
    {
     "data": {
      "text/plain": [
       "(5507, 8)"
      ]
     },
     "execution_count": 17,
     "metadata": {},
     "output_type": "execute_result"
    }
   ],
   "source": [
    "# Ahora removemos aquellas observaciones que se encuentran por fuera del rango: 1.5 x IOR\n",
    "df = df[~((df['Ventas_Tienda'] < (Q1 - 1.5 * IQR)) |(df['Ventas_Tienda'] > (Q3 + 1.5 * IQR)))]\n",
    "df.shape"
   ]
  },
  {
   "cell_type": "code",
   "execution_count": 18,
   "id": "51eaac24",
   "metadata": {},
   "outputs": [
    {
     "data": {
      "text/plain": [
       "<AxesSubplot:xlabel='Ventas_Tienda', ylabel='Density'>"
      ]
     },
     "execution_count": 18,
     "metadata": {},
     "output_type": "execute_result"
    },
    {
     "data": {
      "image/png": "[encoded data removed]",
      "text/plain": [
       "<Figure size 432x288 with 1 Axes>"
      ]
     },
     "metadata": {
      "needs_background": "light"
     },
     "output_type": "display_data"
    }
   ],
   "source": [
    "sns.distplot(df['Ventas_Tienda'],color=\"yellow\")"
   ]
  },
  {
   "cell_type": "markdown",
   "id": "6fcd93a0",
   "metadata": {},
   "source": [
    "Una vez aplicado el metodo del IQR se tiene un gráfico con una distribucion normal."
   ]
  },
  {
   "cell_type": "markdown",
   "id": "fb22d707",
   "metadata": {},
   "source": [
    "### Variable independiente X1 Tienda"
   ]
  },
  {
   "cell_type": "code",
   "execution_count": 19,
   "id": "aee007b3",
   "metadata": {},
   "outputs": [
    {
     "data": {
      "text/plain": [
       "<AxesSubplot:xlabel='Tienda', ylabel='Density'>"
      ]
     },
     "execution_count": 19,
     "metadata": {},
     "output_type": "execute_result"
    },
    {
     "data": {
      "image/png": "[encoded data removed]",
      "text/plain": [
       "<Figure size 432x288 with 1 Axes>"
      ]
     },
     "metadata": {
      "needs_background": "light"
     },
     "output_type": "display_data"
    }
   ],
   "source": [
    "sns.distplot(df['Tienda'],color=\"green\")"
   ]
  },
  {
   "cell_type": "markdown",
   "id": "99cc5897",
   "metadata": {},
   "source": [
    "La variable X1 Tienda no es una distribucion normal, es una distribucion multimodal, no se aplica el metodo IQR ya que no existe sesgos pronunciados."
   ]
  },
  {
   "cell_type": "markdown",
   "id": "83d91541",
   "metadata": {},
   "source": [
    "### Variable independiente X2 Bandera_Semana"
   ]
  },
  {
   "cell_type": "code",
   "execution_count": 20,
   "id": "dc184be3",
   "metadata": {},
   "outputs": [
    {
     "data": {
      "text/plain": [
       "<AxesSubplot:xlabel='Bandera_Semana', ylabel='Density'>"
      ]
     },
     "execution_count": 20,
     "metadata": {},
     "output_type": "execute_result"
    },
    {
     "data": {
      "image/png": "[encoded data removed]",
      "text/plain": [
       "<Figure size 432x288 with 1 Axes>"
      ]
     },
     "metadata": {
      "needs_background": "light"
     },
     "output_type": "display_data"
    }
   ],
   "source": [
    "sns.distplot(df['Bandera_Semana'],color=\"red\")"
   ]
  },
  {
   "cell_type": "markdown",
   "id": "1511b98d",
   "metadata": {},
   "source": [
    "La variable X2 Bandera_Semana no es una distribucion normal, es una distribucion multimodal, no se aplica el metodo IQR ya que no existe sesgos pronunciados."
   ]
  },
  {
   "cell_type": "markdown",
   "id": "57fe5348",
   "metadata": {},
   "source": [
    "### Variable independiente X3 Temperatura"
   ]
  },
  {
   "cell_type": "code",
   "execution_count": 21,
   "id": "f4caaed8",
   "metadata": {},
   "outputs": [
    {
     "data": {
      "text/plain": [
       "<AxesSubplot:xlabel='Temperatura', ylabel='Density'>"
      ]
     },
     "execution_count": 21,
     "metadata": {},
     "output_type": "execute_result"
    },
    {
     "data": {
      "image/png": "[encoded data removed]",
      "text/plain": [
       "<Figure size 432x288 with 1 Axes>"
      ]
     },
     "metadata": {
      "needs_background": "light"
     },
     "output_type": "display_data"
    }
   ],
   "source": [
    "sns.distplot(df['Temperatura'],color=\"blue\")"
   ]
  },
  {
   "cell_type": "markdown",
   "id": "8e0c17eb",
   "metadata": {},
   "source": [
    "La variable independiente X3 Temperatura se oberva que tiene un sesgo a la derecha por lo que se aplicara el metodo IQR para retirar los valores atipicos."
   ]
  },
  {
   "cell_type": "code",
   "execution_count": 22,
   "id": "2b7d483d",
   "metadata": {},
   "outputs": [
    {
     "name": "stdout",
     "output_type": "stream",
     "text": [
      "26.644999999999996\n"
     ]
    }
   ],
   "source": [
    "# Calculamos el Quartil 1 y Quartil 3 que son aquellos que nos permiten estimar los límites de los datos atípicos\n",
    "Q1 = df.Temperatura.quantile(0.25)\n",
    "Q3 = df.Temperatura.quantile(0.75)\n",
    "IQR = Q3 - Q1  #rango intercuartil\n",
    "print(IQR)"
   ]
  },
  {
   "cell_type": "code",
   "execution_count": 23,
   "id": "f7df9fec",
   "metadata": {},
   "outputs": [
    {
     "data": {
      "text/plain": [
       "(5507, 8)"
      ]
     },
     "execution_count": 23,
     "metadata": {},
     "output_type": "execute_result"
    }
   ],
   "source": [
    "# Ahora removemos aquellas observaciones que se encuentran por fuera del rango: 1.5 x IOR\n",
    "df = df[~((df['Temperatura'] < (Q1 - 1.5 * IQR)) |(df['Temperatura'] > (Q3 + 1.5 * IQR)))]\n",
    "df.shape"
   ]
  },
  {
   "cell_type": "code",
   "execution_count": 24,
   "id": "71deb98c",
   "metadata": {},
   "outputs": [
    {
     "data": {
      "text/plain": [
       "<AxesSubplot:xlabel='Temperatura', ylabel='Density'>"
      ]
     },
     "execution_count": 24,
     "metadata": {},
     "output_type": "execute_result"
    },
    {
     "data": {
      "image/png": "[encoded data removed]",
      "text/plain": [
       "<Figure size 432x288 with 1 Axes>"
      ]
     },
     "metadata": {
      "needs_background": "light"
     },
     "output_type": "display_data"
    }
   ],
   "source": [
    "sns.distplot(df['Temperatura'],color=\"blue\")"
   ]
  },
  {
   "cell_type": "markdown",
   "id": "b8a1a412",
   "metadata": {},
   "source": [
    "Una vez aplicado el metodo del IQR se tiene un gráfico con una distribucion normal."
   ]
  },
  {
   "cell_type": "markdown",
   "id": "d44406b4",
   "metadata": {},
   "source": [
    "### Variable independiente X4 Precio_Combustible"
   ]
  },
  {
   "cell_type": "code",
   "execution_count": 25,
   "id": "96aaafe6",
   "metadata": {},
   "outputs": [
    {
     "data": {
      "text/plain": [
       "<AxesSubplot:xlabel='Precio_Combustible', ylabel='Density'>"
      ]
     },
     "execution_count": 25,
     "metadata": {},
     "output_type": "execute_result"
    },
    {
     "data": {
      "image/png": "[encoded data removed]",
      "text/plain": [
       "<Figure size 432x288 with 1 Axes>"
      ]
     },
     "metadata": {
      "needs_background": "light"
     },
     "output_type": "display_data"
    }
   ],
   "source": [
    "sns.distplot(df['Precio_Combustible'],color=\"brown\")"
   ]
  },
  {
   "cell_type": "markdown",
   "id": "cd57b820",
   "metadata": {},
   "source": [
    "La variable X4 Precio_Combustible no es una distribucion normal, es una distribucion multimodal, no se aplica el metodo IQR ya que no existe sesgos pronunciados."
   ]
  },
  {
   "cell_type": "markdown",
   "id": "a47e8794",
   "metadata": {},
   "source": [
    "### Variable independiente X5 CPI"
   ]
  },
  {
   "cell_type": "code",
   "execution_count": 26,
   "id": "88992a3c",
   "metadata": {},
   "outputs": [
    {
     "data": {
      "text/plain": [
       "<AxesSubplot:xlabel='Precio_Combustible', ylabel='Density'>"
      ]
     },
     "execution_count": 26,
     "metadata": {},
     "output_type": "execute_result"
    },
    {
     "data": {
      "image/png": "[encoded data removed]",
      "text/plain": [
       "<Figure size 432x288 with 1 Axes>"
      ]
     },
     "metadata": {
      "needs_background": "light"
     },
     "output_type": "display_data"
    }
   ],
   "source": [
    "sns.distplot(df['Precio_Combustible'],color=\"pink\")"
   ]
  },
  {
   "cell_type": "markdown",
   "id": "007e4573",
   "metadata": {},
   "source": [
    "La variable X5 CPI no tiene datos atipicos, no se aplica el metodo IQR ya que no existe sesgos pronunciados."
   ]
  },
  {
   "cell_type": "markdown",
   "id": "f10cb510",
   "metadata": {},
   "source": [
    "### Variable independiente X6 Desempleo"
   ]
  },
  {
   "cell_type": "code",
   "execution_count": 27,
   "id": "bb5aaf01",
   "metadata": {},
   "outputs": [
    {
     "data": {
      "text/plain": [
       "<AxesSubplot:xlabel='Desempleo', ylabel='Density'>"
      ]
     },
     "execution_count": 27,
     "metadata": {},
     "output_type": "execute_result"
    },
    {
     "data": {
      "image/png": "[encoded data removed]",
      "text/plain": [
       "<Figure size 432x288 with 1 Axes>"
      ]
     },
     "metadata": {
      "needs_background": "light"
     },
     "output_type": "display_data"
    }
   ],
   "source": [
    "sns.distplot(df['Desempleo'],color=\"brown\")"
   ]
  },
  {
   "cell_type": "markdown",
   "id": "f42bec3a",
   "metadata": {},
   "source": [
    "La variable independiente X6 Desempleo se oberva que tiene un sesgo a la derecha e izquierda por lo que se aplicara el metodo IQR para retirar los valores atipicos."
   ]
  },
  {
   "cell_type": "code",
   "execution_count": 28,
   "id": "62966758",
   "metadata": {},
   "outputs": [
    {
     "name": "stdout",
     "output_type": "stream",
     "text": [
      "1.6029999999999998\n"
     ]
    }
   ],
   "source": [
    "# Calculamos el Quartil 1 y Quartil 3 que son aquellos que nos permiten estimar los límites de los datos atípicos\n",
    "Q1 = df.Desempleo.quantile(0.25)\n",
    "Q3 = df.Desempleo.quantile(0.75)\n",
    "IQR = Q3 - Q1  #rango intercuartil\n",
    "print(IQR)"
   ]
  },
  {
   "cell_type": "code",
   "execution_count": 29,
   "id": "475c0939",
   "metadata": {},
   "outputs": [
    {
     "data": {
      "text/plain": [
       "(5436, 8)"
      ]
     },
     "execution_count": 29,
     "metadata": {},
     "output_type": "execute_result"
    }
   ],
   "source": [
    "# Ahora removemos aquellas observaciones que se encuentran por fuera del rango: 1.5 x IOR\n",
    "df = df[~((df['Desempleo'] < (Q1 - 1.5 * IQR)) |(df['Desempleo'] > (Q3 + 1.5 * IQR)))]\n",
    "df.shape"
   ]
  },
  {
   "cell_type": "code",
   "execution_count": 30,
   "id": "ab77bc14",
   "metadata": {},
   "outputs": [
    {
     "data": {
      "text/plain": [
       "<AxesSubplot:xlabel='Desempleo', ylabel='Density'>"
      ]
     },
     "execution_count": 30,
     "metadata": {},
     "output_type": "execute_result"
    },
    {
     "data": {
      "image/png": "[encoded data removed]",
      "text/plain": [
       "<Figure size 432x288 with 1 Axes>"
      ]
     },
     "metadata": {
      "needs_background": "light"
     },
     "output_type": "display_data"
    }
   ],
   "source": [
    "sns.distplot(df['Desempleo'],color=\"brown\")"
   ]
  },
  {
   "cell_type": "markdown",
   "id": "24a08366",
   "metadata": {},
   "source": [
    "Una vez aplicado el metodo del IQR se tiene un gráfico con una distribucion normal."
   ]
  },
  {
   "cell_type": "markdown",
   "id": "2befb440",
   "metadata": {},
   "source": [
    "## 6. Obtenga las correlaciones entre los datos de corte numérico. "
   ]
  },
  {
   "cell_type": "code",
   "execution_count": 31,
   "id": "20555f0e",
   "metadata": {},
   "outputs": [
    {
     "data": {
      "text/html": [
       "<style type=\"text/css\">\n",
       "#T_618d0_row0_col0, #T_618d0_row1_col1, #T_618d0_row3_col3, #T_618d0_row4_col4, #T_618d0_row5_col5, #T_618d0_row6_col6 {\n",
       "  background-color: #b40426;\n",
       "  color: #f1f1f1;\n",
       "}\n",
       "#T_618d0_row0_col1, #T_618d0_row1_col0, #T_618d0_row1_col3, #T_618d0_row5_col4, #T_618d0_row5_col6, #T_618d0_row6_col5 {\n",
       "  background-color: #3b4cc0;\n",
       "  color: #f1f1f1;\n",
       "}\n",
       "#T_618d0_row0_col2, #T_618d0_row1_col2, #T_618d0_row2_col0, #T_618d0_row2_col1, #T_618d0_row2_col2, #T_618d0_row2_col3, #T_618d0_row2_col4, #T_618d0_row2_col5, #T_618d0_row2_col6, #T_618d0_row3_col2, #T_618d0_row4_col2, #T_618d0_row5_col2, #T_618d0_row6_col2 {\n",
       "  background-color: #000000;\n",
       "  color: #f1f1f1;\n",
       "}\n",
       "#T_618d0_row0_col3 {\n",
       "  background-color: #3e51c5;\n",
       "  color: #f1f1f1;\n",
       "}\n",
       "#T_618d0_row0_col4 {\n",
       "  background-color: #6c8ff1;\n",
       "  color: #f1f1f1;\n",
       "}\n",
       "#T_618d0_row0_col5 {\n",
       "  background-color: #3f53c6;\n",
       "  color: #f1f1f1;\n",
       "}\n",
       "#T_618d0_row0_col6 {\n",
       "  background-color: #cedaeb;\n",
       "  color: #000000;\n",
       "}\n",
       "#T_618d0_row1_col4 {\n",
       "  background-color: #6485ec;\n",
       "  color: #f1f1f1;\n",
       "}\n",
       "#T_618d0_row1_col5 {\n",
       "  background-color: #6180e9;\n",
       "  color: #f1f1f1;\n",
       "}\n",
       "#T_618d0_row1_col6, #T_618d0_row4_col3 {\n",
       "  background-color: #688aef;\n",
       "  color: #f1f1f1;\n",
       "}\n",
       "#T_618d0_row3_col0 {\n",
       "  background-color: #82a6fb;\n",
       "  color: #f1f1f1;\n",
       "}\n",
       "#T_618d0_row3_col1 {\n",
       "  background-color: #80a3fa;\n",
       "  color: #f1f1f1;\n",
       "}\n",
       "#T_618d0_row3_col4 {\n",
       "  background-color: #81a4fb;\n",
       "  color: #f1f1f1;\n",
       "}\n",
       "#T_618d0_row3_col5 {\n",
       "  background-color: #bad0f8;\n",
       "  color: #000000;\n",
       "}\n",
       "#T_618d0_row3_col6 {\n",
       "  background-color: #7597f6;\n",
       "  color: #f1f1f1;\n",
       "}\n",
       "#T_618d0_row4_col0 {\n",
       "  background-color: #96b7ff;\n",
       "  color: #000000;\n",
       "}\n",
       "#T_618d0_row4_col1 {\n",
       "  background-color: #8fb1fe;\n",
       "  color: #000000;\n",
       "}\n",
       "#T_618d0_row4_col5, #T_618d0_row5_col0 {\n",
       "  background-color: #536edd;\n",
       "  color: #f1f1f1;\n",
       "}\n",
       "#T_618d0_row4_col6 {\n",
       "  background-color: #5572df;\n",
       "  color: #f1f1f1;\n",
       "}\n",
       "#T_618d0_row5_col1 {\n",
       "  background-color: #7396f5;\n",
       "  color: #f1f1f1;\n",
       "}\n",
       "#T_618d0_row5_col3 {\n",
       "  background-color: #92b4fe;\n",
       "  color: #000000;\n",
       "}\n",
       "#T_618d0_row6_col0 {\n",
       "  background-color: #d8dce2;\n",
       "  color: #000000;\n",
       "}\n",
       "#T_618d0_row6_col1 {\n",
       "  background-color: #7b9ff9;\n",
       "  color: #f1f1f1;\n",
       "}\n",
       "#T_618d0_row6_col3 {\n",
       "  background-color: #4358cb;\n",
       "  color: #f1f1f1;\n",
       "}\n",
       "#T_618d0_row6_col4 {\n",
       "  background-color: #3c4ec2;\n",
       "  color: #f1f1f1;\n",
       "}\n",
       "</style>\n",
       "<table id=\"T_618d0\">\n",
       "  <thead>\n",
       "    <tr>\n",
       "      <th class=\"blank level0\" >&nbsp;</th>\n",
       "      <th id=\"T_618d0_level0_col0\" class=\"col_heading level0 col0\" >Tienda</th>\n",
       "      <th id=\"T_618d0_level0_col1\" class=\"col_heading level0 col1\" >Ventas_Tienda</th>\n",
       "      <th id=\"T_618d0_level0_col2\" class=\"col_heading level0 col2\" >Bandera_Semana</th>\n",
       "      <th id=\"T_618d0_level0_col3\" class=\"col_heading level0 col3\" >Temperatura</th>\n",
       "      <th id=\"T_618d0_level0_col4\" class=\"col_heading level0 col4\" >Precio_Combustible</th>\n",
       "      <th id=\"T_618d0_level0_col5\" class=\"col_heading level0 col5\" >CPI</th>\n",
       "      <th id=\"T_618d0_level0_col6\" class=\"col_heading level0 col6\" >Desempleo</th>\n",
       "    </tr>\n",
       "  </thead>\n",
       "  <tbody>\n",
       "    <tr>\n",
       "      <th id=\"T_618d0_level0_row0\" class=\"row_heading level0 row0\" >Tienda</th>\n",
       "      <td id=\"T_618d0_row0_col0\" class=\"data row0 col0\" >1.000000</td>\n",
       "      <td id=\"T_618d0_row0_col1\" class=\"data row0 col1\" >-0.316222</td>\n",
       "      <td id=\"T_618d0_row0_col2\" class=\"data row0 col2\" >nan</td>\n",
       "      <td id=\"T_618d0_row0_col3\" class=\"data row0 col3\" >-0.025456</td>\n",
       "      <td id=\"T_618d0_row0_col4\" class=\"data row0 col4\" >0.046444</td>\n",
       "      <td id=\"T_618d0_row0_col5\" class=\"data row0 col5\" >-0.209478</td>\n",
       "      <td id=\"T_618d0_row0_col6\" class=\"data row0 col6\" >0.321092</td>\n",
       "    </tr>\n",
       "    <tr>\n",
       "      <th id=\"T_618d0_level0_row1\" class=\"row_heading level0 row1\" >Ventas_Tienda</th>\n",
       "      <td id=\"T_618d0_row1_col0\" class=\"data row1 col0\" >-0.316222</td>\n",
       "      <td id=\"T_618d0_row1_col1\" class=\"data row1 col1\" >1.000000</td>\n",
       "      <td id=\"T_618d0_row1_col2\" class=\"data row1 col2\" >nan</td>\n",
       "      <td id=\"T_618d0_row1_col3\" class=\"data row1 col3\" >-0.037851</td>\n",
       "      <td id=\"T_618d0_row1_col4\" class=\"data row1 col4\" >0.018721</td>\n",
       "      <td id=\"T_618d0_row1_col5\" class=\"data row1 col5\" >-0.079723</td>\n",
       "      <td id=\"T_618d0_row1_col6\" class=\"data row1 col6\" >-0.051682</td>\n",
       "    </tr>\n",
       "    <tr>\n",
       "      <th id=\"T_618d0_level0_row2\" class=\"row_heading level0 row2\" >Bandera_Semana</th>\n",
       "      <td id=\"T_618d0_row2_col0\" class=\"data row2 col0\" >nan</td>\n",
       "      <td id=\"T_618d0_row2_col1\" class=\"data row2 col1\" >nan</td>\n",
       "      <td id=\"T_618d0_row2_col2\" class=\"data row2 col2\" >nan</td>\n",
       "      <td id=\"T_618d0_row2_col3\" class=\"data row2 col3\" >nan</td>\n",
       "      <td id=\"T_618d0_row2_col4\" class=\"data row2 col4\" >nan</td>\n",
       "      <td id=\"T_618d0_row2_col5\" class=\"data row2 col5\" >nan</td>\n",
       "      <td id=\"T_618d0_row2_col6\" class=\"data row2 col6\" >nan</td>\n",
       "    </tr>\n",
       "    <tr>\n",
       "      <th id=\"T_618d0_level0_row3\" class=\"row_heading level0 row3\" >Temperatura</th>\n",
       "      <td id=\"T_618d0_row3_col0\" class=\"data row3 col0\" >-0.025456</td>\n",
       "      <td id=\"T_618d0_row3_col1\" class=\"data row3 col1\" >-0.037851</td>\n",
       "      <td id=\"T_618d0_row3_col2\" class=\"data row3 col2\" >nan</td>\n",
       "      <td id=\"T_618d0_row3_col3\" class=\"data row3 col3\" >1.000000</td>\n",
       "      <td id=\"T_618d0_row3_col4\" class=\"data row3 col4\" >0.114122</td>\n",
       "      <td id=\"T_618d0_row3_col5\" class=\"data row3 col5\" >0.235501</td>\n",
       "      <td id=\"T_618d0_row3_col6\" class=\"data row3 col6\" >-0.006634</td>\n",
       "    </tr>\n",
       "    <tr>\n",
       "      <th id=\"T_618d0_level0_row4\" class=\"row_heading level0 row4\" >Precio_Combustible</th>\n",
       "      <td id=\"T_618d0_row4_col0\" class=\"data row4 col0\" >0.046444</td>\n",
       "      <td id=\"T_618d0_row4_col1\" class=\"data row4 col1\" >0.018721</td>\n",
       "      <td id=\"T_618d0_row4_col2\" class=\"data row4 col2\" >nan</td>\n",
       "      <td id=\"T_618d0_row4_col3\" class=\"data row4 col3\" >0.114122</td>\n",
       "      <td id=\"T_618d0_row4_col4\" class=\"data row4 col4\" >1.000000</td>\n",
       "      <td id=\"T_618d0_row4_col5\" class=\"data row4 col5\" >-0.131896</td>\n",
       "      <td id=\"T_618d0_row4_col6\" class=\"data row4 col6\" >-0.123973</td>\n",
       "    </tr>\n",
       "    <tr>\n",
       "      <th id=\"T_618d0_level0_row5\" class=\"row_heading level0 row5\" >CPI</th>\n",
       "      <td id=\"T_618d0_row5_col0\" class=\"data row5 col0\" >-0.209478</td>\n",
       "      <td id=\"T_618d0_row5_col1\" class=\"data row5 col1\" >-0.079723</td>\n",
       "      <td id=\"T_618d0_row5_col2\" class=\"data row5 col2\" >nan</td>\n",
       "      <td id=\"T_618d0_row5_col3\" class=\"data row5 col3\" >0.235501</td>\n",
       "      <td id=\"T_618d0_row5_col4\" class=\"data row5 col4\" >-0.131896</td>\n",
       "      <td id=\"T_618d0_row5_col5\" class=\"data row5 col5\" >1.000000</td>\n",
       "      <td id=\"T_618d0_row5_col6\" class=\"data row5 col6\" >-0.231608</td>\n",
       "    </tr>\n",
       "    <tr>\n",
       "      <th id=\"T_618d0_level0_row6\" class=\"row_heading level0 row6\" >Desempleo</th>\n",
       "      <td id=\"T_618d0_row6_col0\" class=\"data row6 col0\" >0.321092</td>\n",
       "      <td id=\"T_618d0_row6_col1\" class=\"data row6 col1\" >-0.051682</td>\n",
       "      <td id=\"T_618d0_row6_col2\" class=\"data row6 col2\" >nan</td>\n",
       "      <td id=\"T_618d0_row6_col3\" class=\"data row6 col3\" >-0.006634</td>\n",
       "      <td id=\"T_618d0_row6_col4\" class=\"data row6 col4\" >-0.123973</td>\n",
       "      <td id=\"T_618d0_row6_col5\" class=\"data row6 col5\" >-0.231608</td>\n",
       "      <td id=\"T_618d0_row6_col6\" class=\"data row6 col6\" >1.000000</td>\n",
       "    </tr>\n",
       "  </tbody>\n",
       "</table>\n"
      ],
      "text/plain": [
       "<pandas.io.formats.style.Styler at 0x17d5f3a1c70>"
      ]
     },
     "execution_count": 31,
     "metadata": {},
     "output_type": "execute_result"
    }
   ],
   "source": [
    "df.corr().style.background_gradient(cmap='coolwarm')"
   ]
  },
  {
   "cell_type": "markdown",
   "id": "9754f502",
   "metadata": {},
   "source": [
    "Se puede observar que las variables con mayor correlación entre si son: Ventas_Tienda, CPI y Precio_Combustible."
   ]
  },
  {
   "cell_type": "code",
   "execution_count": 32,
   "id": "10156342",
   "metadata": {},
   "outputs": [],
   "source": [
    "## Gráfico de variables para verificación de relación:\n",
    "var_cuantitativas = df.select_dtypes('number').columns\n",
    "var_cualitativas  =df.select_dtypes('object').columns"
   ]
  },
  {
   "cell_type": "code",
   "execution_count": 33,
   "id": "9447537c",
   "metadata": {},
   "outputs": [
    {
     "data": {
      "image/png": "[encoded data removed]",
      "text/plain": [
       "<Figure size 864x720 with 9 Axes>"
      ]
     },
     "metadata": {
      "needs_background": "light"
     },
     "output_type": "display_data"
    }
   ],
   "source": [
    "df[var_cuantitativas].hist(bins = 15, figsize = (12,10));"
   ]
  },
  {
   "cell_type": "markdown",
   "id": "0d56dec1",
   "metadata": {},
   "source": [
    "## 7. Comente que variable escogerán como variable dependiente y que variables introducirán a su modelo."
   ]
  },
  {
   "cell_type": "code",
   "execution_count": 34,
   "id": "828345ac",
   "metadata": {},
   "outputs": [
    {
     "data": {
      "text/html": [
       "<div>\n",
       "<style scoped>\n",
       "    .dataframe tbody tr th:only-of-type {\n",
       "        vertical-align: middle;\n",
       "    }\n",
       "\n",
       "    .dataframe tbody tr th {\n",
       "        vertical-align: top;\n",
       "    }\n",
       "\n",
       "    .dataframe thead th {\n",
       "        text-align: right;\n",
       "    }\n",
       "</style>\n",
       "<table border=\"1\" class=\"dataframe\">\n",
       "  <thead>\n",
       "    <tr style=\"text-align: right;\">\n",
       "      <th></th>\n",
       "      <th>Tienda</th>\n",
       "      <th>Fecha</th>\n",
       "      <th>Ventas_Tienda</th>\n",
       "      <th>Bandera_Semana</th>\n",
       "      <th>Temperatura</th>\n",
       "      <th>Precio_Combustible</th>\n",
       "      <th>CPI</th>\n",
       "      <th>Desempleo</th>\n",
       "    </tr>\n",
       "  </thead>\n",
       "  <tbody>\n",
       "    <tr>\n",
       "      <th>0</th>\n",
       "      <td>1</td>\n",
       "      <td>19</td>\n",
       "      <td>1643690.90</td>\n",
       "      <td>0</td>\n",
       "      <td>42.31</td>\n",
       "      <td>2.572</td>\n",
       "      <td>211.096358</td>\n",
       "      <td>8.106</td>\n",
       "    </tr>\n",
       "    <tr>\n",
       "      <th>2</th>\n",
       "      <td>1</td>\n",
       "      <td>79</td>\n",
       "      <td>1611968.17</td>\n",
       "      <td>0</td>\n",
       "      <td>39.93</td>\n",
       "      <td>2.514</td>\n",
       "      <td>211.289143</td>\n",
       "      <td>8.106</td>\n",
       "    </tr>\n",
       "    <tr>\n",
       "      <th>3</th>\n",
       "      <td>1</td>\n",
       "      <td>111</td>\n",
       "      <td>1409727.59</td>\n",
       "      <td>0</td>\n",
       "      <td>46.63</td>\n",
       "      <td>2.561</td>\n",
       "      <td>211.319643</td>\n",
       "      <td>8.106</td>\n",
       "    </tr>\n",
       "    <tr>\n",
       "      <th>4</th>\n",
       "      <td>1</td>\n",
       "      <td>20</td>\n",
       "      <td>1554806.68</td>\n",
       "      <td>0</td>\n",
       "      <td>46.50</td>\n",
       "      <td>2.625</td>\n",
       "      <td>211.350143</td>\n",
       "      <td>8.106</td>\n",
       "    </tr>\n",
       "    <tr>\n",
       "      <th>5</th>\n",
       "      <td>1</td>\n",
       "      <td>47</td>\n",
       "      <td>1439541.59</td>\n",
       "      <td>0</td>\n",
       "      <td>57.79</td>\n",
       "      <td>2.667</td>\n",
       "      <td>211.380643</td>\n",
       "      <td>8.106</td>\n",
       "    </tr>\n",
       "  </tbody>\n",
       "</table>\n",
       "</div>"
      ],
      "text/plain": [
       "   Tienda  Fecha  Ventas_Tienda  Bandera_Semana  Temperatura  \\\n",
       "0       1     19     1643690.90               0        42.31   \n",
       "2       1     79     1611968.17               0        39.93   \n",
       "3       1    111     1409727.59               0        46.63   \n",
       "4       1     20     1554806.68               0        46.50   \n",
       "5       1     47     1439541.59               0        57.79   \n",
       "\n",
       "   Precio_Combustible         CPI  Desempleo  \n",
       "0               2.572  211.096358      8.106  \n",
       "2               2.514  211.289143      8.106  \n",
       "3               2.561  211.319643      8.106  \n",
       "4               2.625  211.350143      8.106  \n",
       "5               2.667  211.380643      8.106  "
      ]
     },
     "execution_count": 34,
     "metadata": {},
     "output_type": "execute_result"
    }
   ],
   "source": [
    "# Transformación de variables categóricas a numéricas:\n",
    "from sklearn.preprocessing import LabelEncoder\n",
    "df[var_cualitativas]=df[var_cualitativas].apply(LabelEncoder().fit_transform)\n",
    "df[var_cualitativas]=df[var_cualitativas].apply(LabelEncoder().fit_transform)\n",
    "df.head()"
   ]
  },
  {
   "cell_type": "markdown",
   "id": "168d8f69",
   "metadata": {},
   "source": [
    "* Variable Dependiente (Y): Ventas_Tienda\n",
    "* Variable Independiente (X1): Tienda\n",
    "* Variable Independiente (X2): Bandera_Semana\n",
    "* Variable Independiente (X3): Temperatura\n",
    "* Variable Independiente (X4): Precio_Combustible\n",
    "* Variable Independiente (X5): CPI\n",
    "* Variable Independiente (X6): Desempleo"
   ]
  },
  {
   "cell_type": "markdown",
   "id": "697aed89",
   "metadata": {},
   "source": [
    "En este caso se ha decidido trabajar como variable dependiente a Ventas_Tienda, debido a que varia de acuerdo a la tienda y las variables explicativas o independientes las restantes (Tienda, Bandera_Semana, Temperatura, Precio_Combustible, CPI y Desempleo) "
   ]
  },
  {
   "cell_type": "markdown",
   "id": "f35bc599",
   "metadata": {},
   "source": [
    "## 8. Indique que tipo de modelación realizarán y porqué. "
   ]
  },
  {
   "cell_type": "markdown",
   "id": "6411020a",
   "metadata": {},
   "source": [
    "Se realizará el tipo de modelación por Machine Learning mediante Regresión Lineal por Sklearn.\n",
    "Porque los algoritmos para aplicar son más flexibles que el marco econométrico, por lo que nos enfocamos en realizar predicciones varios de los supuestos mediante las técnicas de prueba denominadas Test que permite estimar el rendimiento del algoritmo basado en predicciones y la prueba de Train permite que el algoritmo \"aprenda\" de las relaciones entre las variables y los datos."
   ]
  },
  {
   "cell_type": "markdown",
   "id": "7dbbb1dc",
   "metadata": {},
   "source": [
    "## 9. Verifique los supuestos, de haber escogido el enfoque econométrico. "
   ]
  },
  {
   "cell_type": "markdown",
   "id": "dbaf8340",
   "metadata": {},
   "source": [
    "Para la verificación de los supuestos, haremos uso del módulo sklearn, el mismo es encargado de la modelación por Machine Learning en Python.\n",
    "*- Para la regresión y validación de supuestos, instalamos y llamamos a sklearn."
   ]
  },
  {
   "cell_type": "markdown",
   "id": "ad55220c",
   "metadata": {},
   "source": [
    "<img src=\"Instalar_sklearn.png\" width=\"550\">"
   ]
  },
  {
   "cell_type": "markdown",
   "id": "758bf4fc",
   "metadata": {},
   "source": [
    "## 10. Obtenga el modelo definitivo, prediga los valores y comente el grado de ajuste del modelo. Justifique con métricas su respuesta."
   ]
  },
  {
   "cell_type": "code",
   "execution_count": 36,
   "id": "f689149d",
   "metadata": {},
   "outputs": [],
   "source": [
    "# Inicializar el modelo: \n",
    "from sklearn.linear_model import LinearRegression"
   ]
  },
  {
   "cell_type": "markdown",
   "id": "9a3ab7e3",
   "metadata": {},
   "source": [
    "#### Recodificamos las variables categóricas con Label Encoder"
   ]
  },
  {
   "cell_type": "code",
   "execution_count": 37,
   "id": "ea63d8c7",
   "metadata": {},
   "outputs": [],
   "source": [
    "var_cuantitativas = df.select_dtypes('number').columns\n",
    "var_cualitativas  =df.select_dtypes('object').columns"
   ]
  },
  {
   "cell_type": "code",
   "execution_count": 38,
   "id": "5b64e903",
   "metadata": {},
   "outputs": [],
   "source": [
    "from sklearn.preprocessing import LabelEncoder"
   ]
  },
  {
   "cell_type": "code",
   "execution_count": 39,
   "id": "0fbaf4d1",
   "metadata": {},
   "outputs": [],
   "source": [
    "# creating instance of labelencoder\n",
    "labelencoder = LabelEncoder()"
   ]
  },
  {
   "cell_type": "code",
   "execution_count": 40,
   "id": "ce600204",
   "metadata": {},
   "outputs": [],
   "source": [
    "df[var_cualitativas] = df[var_cualitativas].apply(labelencoder.fit_transform)"
   ]
  },
  {
   "cell_type": "markdown",
   "id": "0420d789",
   "metadata": {},
   "source": [
    "#### *- Separamos a los predictores de nuestra variable objetivo:"
   ]
  },
  {
   "cell_type": "code",
   "execution_count": 42,
   "id": "8a986c82",
   "metadata": {},
   "outputs": [],
   "source": [
    "X = df[df.columns.difference(['Ventas_Tienda'])]\n",
    "y = df.Ventas_Tienda"
   ]
  },
  {
   "cell_type": "markdown",
   "id": "76731b80",
   "metadata": {},
   "source": [
    "* Ahora vamos a realizar un train/test split, separando un 80% de los datos para la submuestra de entrenamiento y 20% para la submuestra de prueba."
   ]
  },
  {
   "cell_type": "code",
   "execution_count": 43,
   "id": "964d86f8",
   "metadata": {},
   "outputs": [],
   "source": [
    "# Primero tenemos que importar del module sklearn la función: train_test_split\n",
    "from sklearn.model_selection import train_test_split"
   ]
  },
  {
   "cell_type": "code",
   "execution_count": 44,
   "id": "afff9bc3",
   "metadata": {},
   "outputs": [],
   "source": [
    "# Determinamos nuestra X primero en donde el 80% es para el X_Train y el 20% para el X_test.\n",
    "X_train , X_test , y_train , y_test = train_test_split(X , y , test_size = 0.20,random_state =123)"
   ]
  },
  {
   "cell_type": "code",
   "execution_count": 45,
   "id": "f39098de",
   "metadata": {},
   "outputs": [
    {
     "name": "stdout",
     "output_type": "stream",
     "text": [
      "(4348, 7)  <class 'pandas.core.frame.DataFrame'>\n",
      "(4348,) \t  <class 'pandas.core.series.Series'>\n",
      "(1088, 7)  <class 'pandas.core.frame.DataFrame'>\n",
      "(1088,) \t  <class 'pandas.core.series.Series'>\n"
     ]
    }
   ],
   "source": [
    "# El siguiente script es para ver los shape y ver si la división o split se realizó de forma correcta, \n",
    "# en donde pasamos el shape a cada uno de los objetos\n",
    "print(X_train.shape,\"\",type(X_train))\n",
    "print(y_train.shape,\"\\t \",type(y_train))\n",
    "print(X_test.shape,\"\",type(X_test))\n",
    "print(y_test.shape,\"\\t \",type(y_test))"
   ]
  },
  {
   "cell_type": "markdown",
   "id": "e94f30d8",
   "metadata": {},
   "source": [
    "Luego de ejecutar el código anterior, podemos visualizar nuestro X_Train tiene 4348 observaciones y 7 columnas y es un DataFrame, para el segundo caso se tiene 4348 observaciones sin columnas de tipo Serie. Para el X_test tenemos un DataFrame de 1088 columnas y 7 columnas de tipo DataFrame y para el segundo caso 1088 observaciones sin columnas de tipo Serie.\n",
    "Es importante que se tengan las mismas dimensiones de columnas tanto para el X_Train y X_Test."
   ]
  },
  {
   "cell_type": "markdown",
   "id": "4534c1d3",
   "metadata": {},
   "source": [
    "* Luego que ya tenemos separadas las columnas para el X_Train y X_Test, ahora vamos a entrenar nuestro modelo, para ello debemos de realizar lo siguiente: "
   ]
  },
  {
   "cell_type": "markdown",
   "id": "be301071",
   "metadata": {},
   "source": [
    "#### Inicializar el modelo, para ello vamos a entrenar el modelo de regresión lineal por sklearn.\n",
    "* Para ello vamos a llamar al module que importamos (LinearRegresion) e inicializar con los parentesis, para crear un objeto que sera asignado al modelo de regresión."
   ]
  },
  {
   "cell_type": "code",
   "execution_count": 46,
   "id": "b2b146ee",
   "metadata": {},
   "outputs": [
    {
     "data": {
      "text/plain": [
       "LinearRegression()"
      ]
     },
     "execution_count": 46,
     "metadata": {},
     "output_type": "execute_result"
    }
   ],
   "source": [
    "modelo_regresion = LinearRegression()\n",
    "modelo_regresion.fit(X_train, y_train)"
   ]
  },
  {
   "cell_type": "markdown",
   "id": "21beeb83",
   "metadata": {},
   "source": [
    "Ejecutado el script anterior, observamos el mensaje que el modelo ha sido inicializado correctamente."
   ]
  },
  {
   "cell_type": "markdown",
   "id": "8f7af818",
   "metadata": {},
   "source": [
    "#### * Se puede predecir con el método predict, para la base X_train y X_test."
   ]
  },
  {
   "cell_type": "code",
   "execution_count": 48,
   "id": "7796a5c2",
   "metadata": {},
   "outputs": [],
   "source": [
    "predicciones_train = modelo_regresion.predict(X_train)\n",
    "predicciones_test = modelo_regresion.predict(X_test)"
   ]
  },
  {
   "cell_type": "markdown",
   "id": "40e12b3b",
   "metadata": {},
   "source": [
    "Ejecutado el script anterior, lo que se hizo es realizar las predicciones sobre la base de entrenamiento y sobre la data que nuestro modelo no ha visto, el modelo con el fit entreno sobre la base de entrenamiento, por lo tanto las predicciones tendran mejores métricas sobre la base que no ha visto el modelo."
   ]
  },
  {
   "cell_type": "markdown",
   "id": "7919f613",
   "metadata": {},
   "source": [
    "### El siguiente punto es realizar las métricas de evaluación"
   ]
  },
  {
   "cell_type": "code",
   "execution_count": 49,
   "id": "b4746b13",
   "metadata": {},
   "outputs": [],
   "source": [
    "# Importamos la librerias de las métricas que necesitamos: \n",
    "from sklearn.metrics import mean_squared_error, mean_absolute_error"
   ]
  },
  {
   "cell_type": "markdown",
   "id": "c0a01e17",
   "metadata": {},
   "source": [
    "### * Vamos a cálcular el MSE (mean squared error), en este caso los dos tipos de errores."
   ]
  },
  {
   "cell_type": "code",
   "execution_count": 51,
   "id": "2e8899e4",
   "metadata": {},
   "outputs": [
    {
     "name": "stdout",
     "output_type": "stream",
     "text": [
      "262770054559.9018\n",
      "263646274248.0717\n"
     ]
    }
   ],
   "source": [
    "MSE_train = mean_squared_error(y_train, predicciones_train)\n",
    "MSE_test = mean_squared_error(y_test, predicciones_test)\n",
    "print(MSE_train)\n",
    "print(MSE_test)"
   ]
  },
  {
   "cell_type": "markdown",
   "id": "b95db227",
   "metadata": {},
   "source": [
    "En el código anterior lo que hicimos es pasar como argumento las predicciones, necesita la Y observada que si se vio en el entrenamiento y la Y predicha en el método predict.\n",
    "* Se puede observar que el error del train es menor que el error del test, es importante que los dos errores deben estar un poco similares."
   ]
  },
  {
   "cell_type": "markdown",
   "id": "cfb99f95",
   "metadata": {},
   "source": [
    "### Cálcular el RMSE (Raíz cuadrada de las métricas previamente observadas)"
   ]
  },
  {
   "cell_type": "code",
   "execution_count": 52,
   "id": "cacf9bb3",
   "metadata": {},
   "outputs": [
    {
     "name": "stdout",
     "output_type": "stream",
     "text": [
      "512611.01681479864\n",
      "513464.9688616271\n"
     ]
    }
   ],
   "source": [
    "# Obtenemos la raíz cuadrada de y_train y y_test.\n",
    "RMSE_train = np.sqrt(MSE_train)\n",
    "RMSE_test = np.sqrt(MSE_test)\n",
    "print(RMSE_train)\n",
    "print(RMSE_test)"
   ]
  },
  {
   "cell_type": "markdown",
   "id": "fe9c7eb7",
   "metadata": {},
   "source": [
    "El comportamiento del Train (512611.01) es menor al de Test con un valor de 513164.96"
   ]
  },
  {
   "cell_type": "markdown",
   "id": "455bc9a4",
   "metadata": {},
   "source": [
    "### Cálcular el MAE"
   ]
  },
  {
   "cell_type": "code",
   "execution_count": 53,
   "id": "ba199d81",
   "metadata": {},
   "outputs": [
    {
     "name": "stdout",
     "output_type": "stream",
     "text": [
      "431212.8992382359\n",
      "426609.56320830074\n"
     ]
    }
   ],
   "source": [
    "MAE_train = mean_absolute_error(y_train, predicciones_train)\n",
    "MAE_test = mean_absolute_error(y_test, predicciones_test)\n",
    "print(MAE_train)\n",
    "print(MAE_test)"
   ]
  },
  {
   "cell_type": "markdown",
   "id": "45039eee",
   "metadata": {},
   "source": [
    "Para cálcular el MAE, las métricas de error necesitan los y observados estan en el Train o Test y los y predichos se almacenaran de acuerdo al objeto asignado."
   ]
  },
  {
   "cell_type": "markdown",
   "id": "06b44a35",
   "metadata": {},
   "source": [
    "### Obtener el R^2"
   ]
  },
  {
   "cell_type": "code",
   "execution_count": 54,
   "id": "4e8de339",
   "metadata": {},
   "outputs": [],
   "source": [
    "# Para ello se debe importar el R cuadrado como una métrica adicional: \n",
    "from sklearn.metrics import r2_score"
   ]
  },
  {
   "cell_type": "code",
   "execution_count": 55,
   "id": "bbed456f",
   "metadata": {},
   "outputs": [
    {
     "name": "stdout",
     "output_type": "stream",
     "text": [
      "El R^2 del subconjunto de entrenamiento es: 0.1292\n",
      "El R^2 del subconjunto de prueba es: 0.1055\n"
     ]
    }
   ],
   "source": [
    "r_square_train = r2_score(y_train, predicciones_train) #El primer argumento es el y observado.\n",
    "r_square_test  = r2_score(y_test, predicciones_test) #El segundo argumento es el y predicho.\n",
    "print('El R^2 del subconjunto de entrenamiento es:' , r_square_train.round(4))\n",
    "print('El R^2 del subconjunto de prueba es:' , r_square_test.round(4))"
   ]
  },
  {
   "cell_type": "markdown",
   "id": "0168ac15",
   "metadata": {},
   "source": [
    "De acuerdo a los resultados podemos observar el mismo comportamiento de los errores en el R cuadrado.\n",
    "* Se puede observar que el R cuadrado del Train es del 12% y el R cuadrado del Test es del 10%.\n",
    "Análizando los valores del modelo podemos decir que los resultados tienen una diferencia minima, dando como resultado un modelo bastante aceptable, por lo que se busca que las métricas esten bastante cercanas en cuanto a sus valores."
   ]
  },
  {
   "cell_type": "markdown",
   "id": "37989c86",
   "metadata": {},
   "source": [
    "### Ahora vamos a imprimir los parámetros que estan dentro del modelo cálculado en la regresión lineal mediante el método intercept: "
   ]
  },
  {
   "cell_type": "code",
   "execution_count": 56,
   "id": "7da43893",
   "metadata": {},
   "outputs": [
    {
     "name": "stdout",
     "output_type": "stream",
     "text": [
      "intercepto: 1555356.265291241\n",
      "pendiente: [     0.          -1945.20848672  14128.40147712   -598.75332178\n",
      "  38729.72507708   -593.10801097 -15170.61055808]\n"
     ]
    }
   ],
   "source": [
    "# Print the Intercept:\n",
    "print('intercepto:', modelo_regresion.intercept_)\n",
    "\n",
    "# Print the Slope:\n",
    "print('pendiente:', modelo_regresion.coef_) "
   ]
  },
  {
   "cell_type": "markdown",
   "id": "2be95f0a",
   "metadata": {},
   "source": [
    "De acuerdo a los resultados observados anteriormente el método intercept permite encontrar el delta 0. El método regresion_coef, pendiente permite encontrar los coeficientes de nuestras variables explicativas.\n",
    "* Los valores de incept son: 1555356.265291241\n",
    "* Las variables que entraron al modelos son: 0. -1945.20848672  14128.40147712   -598.75332178 38729.72507708   -593.10801097 -15170.61055808"
   ]
  },
  {
   "cell_type": "markdown",
   "id": "031f2d35",
   "metadata": {},
   "source": [
    "## 11. Grafique a los valores predicho de modelo vs los valores reales.\n",
    "####    ¿Cómo se ven una vez graficados frente a los valores reales? Argumente su respuesta."
   ]
  },
  {
   "cell_type": "markdown",
   "id": "249b65bf",
   "metadata": {},
   "source": [
    "#### *- Predicciones con datos de entrenamiento:"
   ]
  },
  {
   "cell_type": "code",
   "execution_count": 57,
   "id": "8eaab8d8",
   "metadata": {},
   "outputs": [
    {
     "data": {
      "image/png": "[encoded data removed]",
      "text/plain": [
       "<Figure size 432x288 with 1 Axes>"
      ]
     },
     "metadata": {
      "needs_background": "light"
     },
     "output_type": "display_data"
    }
   ],
   "source": [
    "fig, ax = plt.subplots()\n",
    "ax.plot(y_train.values) #Pasamos los valores observados reales.\n",
    "ax.plot(predicciones_train) # Pasamos las predicciones del train.\n",
    "plt.title(\"Valores observados vs. predichos en train set\");"
   ]
  },
  {
   "cell_type": "markdown",
   "id": "e4286ddd",
   "metadata": {},
   "source": [
    "De acuerdo al gráfico visualizado anteriormente, podemos observar las diferencias entre los valores observados y los valores predichos, en donde el y_train son los valores observados que si vio el algoritmo y en predicciones_train le pasamos las predicciones para ver que tan ajustadas estan, en donde se indica que el 12% es del Train y un 10% del Test, el algoritmo devuelve las predicciones en donde el modelo lineal es bueno con los modelos que estan cerca de la media, pero si tiene bastante complejidad predecir los puntos que son bastante altos."
   ]
  },
  {
   "cell_type": "markdown",
   "id": "f1b5f0db",
   "metadata": {},
   "source": [
    "#### *- Predicciones con datos de prueba:"
   ]
  },
  {
   "cell_type": "code",
   "execution_count": 58,
   "id": "3cd5c33e",
   "metadata": {},
   "outputs": [
    {
     "data": {
      "image/png": "[encoded data removed]",
      "text/plain": [
       "<Figure size 432x288 with 1 Axes>"
      ]
     },
     "metadata": {
      "needs_background": "light"
     },
     "output_type": "display_data"
    }
   ],
   "source": [
    "fig, ax = plt.subplots()\n",
    "ax.plot(y_test.values) #Pasamos los valores observados reales.\n",
    "ax.plot(predicciones_test) # Pasamos las predicciones del train.\n",
    "plt.title(\"Valores observados vs. predichos en test set\");"
   ]
  },
  {
   "cell_type": "markdown",
   "id": "bc9945da",
   "metadata": {},
   "source": [
    "En la figura observada anteriormente equivale al Test, en donde se ve diferente al Train ya que la proporción de datos que dimos es del 20% de los datos, es un poco más claro las predicciones."
   ]
  },
  {
   "cell_type": "markdown",
   "id": "b0cb2435",
   "metadata": {},
   "source": [
    "## 12. Concluya sobre su modelo. Para ello, si escogió el enfoque econométrico, interprete coeficientes, por el contrario si escogió el enfoque de machine learning, determine cuáles son las variables que tienen mayor poder explicativo sobre su variable objetivo. "
   ]
  },
  {
   "cell_type": "markdown",
   "id": "c72818c8",
   "metadata": {},
   "source": [
    "Para cálcular las variables predictoras con mayor importancia, las variables deben tener la misma escala o que hayan sido escaladas anteriormente, para ello se debe poner a todas las variables sobre la misma línea de competención de acuerdo a lo siguiente:"
   ]
  },
  {
   "cell_type": "code",
   "execution_count": 62,
   "id": "e1bb6082",
   "metadata": {},
   "outputs": [],
   "source": [
    "# Estándarizar las variables mediante StandardScaler:\n",
    "from sklearn.preprocessing import StandardScaler"
   ]
  },
  {
   "cell_type": "code",
   "execution_count": 63,
   "id": "c950a545",
   "metadata": {},
   "outputs": [],
   "source": [
    "# Instanciar el objeto:\n",
    "sc = StandardScaler()"
   ]
  },
  {
   "cell_type": "markdown",
   "id": "bbe34a88",
   "metadata": {},
   "source": [
    "A continuación vamos a entrenar y transformar el X_train y X_test, las variables explicativas estan en las X, solo se necesita estándarizar a las variables independientes, el método fit_transform solo se aplica al X_train, el médotodo transform solamente tranforma las variables o subconjunto X_Test pero no las entrena: "
   ]
  },
  {
   "cell_type": "code",
   "execution_count": 68,
   "id": "240e468c",
   "metadata": {},
   "outputs": [],
   "source": [
    "# Cuando tenemos normalizaciones aplicamos fit_transform para que aprenda y estándarice basado en el conjunto de entrenamiento \n",
    "#(media, desviación standar) pero que solo transforme al subconjunto test.\n",
    "X_train_std = sc.fit_transform(X_train)\n",
    "X_test_std = sc.transform(X_test)"
   ]
  },
  {
   "cell_type": "markdown",
   "id": "acb28907",
   "metadata": {},
   "source": [
    "#### * Entrenar el modelo con los datos de entrenamiento"
   ]
  },
  {
   "cell_type": "markdown",
   "id": "017b1dd8",
   "metadata": {},
   "source": [
    "Una vez que tenemos nuestros diferentes conjuntos de datos, procedemos a entrenar sobre las variables estándarizadas, para ello ejecutamos el siguiente script: "
   ]
  },
  {
   "cell_type": "code",
   "execution_count": 65,
   "id": "4008080e",
   "metadata": {},
   "outputs": [
    {
     "data": {
      "text/plain": [
       "LinearRegression()"
      ]
     },
     "execution_count": 65,
     "metadata": {},
     "output_type": "execute_result"
    }
   ],
   "source": [
    "modelo_regresion_std = LinearRegression()\n",
    "modelo_regresion_std.fit(X_train_std, y_train)"
   ]
  },
  {
   "cell_type": "markdown",
   "id": "947d65eb",
   "metadata": {},
   "source": [
    "Observamos el mensaje que el modelo ha sido inicializado correctamente."
   ]
  },
  {
   "cell_type": "markdown",
   "id": "254af1bf",
   "metadata": {},
   "source": [
    "### Realizar las predicciones"
   ]
  },
  {
   "cell_type": "code",
   "execution_count": 66,
   "id": "dca0533b",
   "metadata": {},
   "outputs": [],
   "source": [
    "predicciones_train_std = modelo_regresion_std.predict(X_train_std)\n",
    "predicciones_test_std = modelo_regresion_std.predict(X_test_std)"
   ]
  },
  {
   "cell_type": "markdown",
   "id": "36b3639b",
   "metadata": {},
   "source": [
    "### Evaluar el R^2"
   ]
  },
  {
   "cell_type": "code",
   "execution_count": 67,
   "id": "51b56886",
   "metadata": {},
   "outputs": [
    {
     "name": "stdout",
     "output_type": "stream",
     "text": [
      "El R^2 del subconjunto de entrenamiento es: 0.1292\n",
      "El R^2 del subconjunto de prueba es: 0.1055\n"
     ]
    }
   ],
   "source": [
    "r_square_train_std = r2_score(y_train, predicciones_train_std)\n",
    "r_square_test_std  = r2_score(y_test, predicciones_test_std)\n",
    "print('El R^2 del subconjunto de entrenamiento es:' , r_square_train_std.round(4))\n",
    "print('El R^2 del subconjunto de prueba es:' , r_square_test_std.round(4))"
   ]
  },
  {
   "cell_type": "markdown",
   "id": "597d44db",
   "metadata": {},
   "source": [
    "Como se puede observar la estándarización no cambia los valores de R^2 en cuánto al R cuadrado que se obtuvo anteriormente. La estandarización no cambia los resultados."
   ]
  },
  {
   "cell_type": "markdown",
   "id": "9f1fc70d",
   "metadata": {},
   "source": [
    "#### Nuevamente realizamos Predicciones es el subgrupo de datos de entrenamiento: "
   ]
  },
  {
   "cell_type": "code",
   "execution_count": 69,
   "id": "1ea7f214",
   "metadata": {},
   "outputs": [
    {
     "data": {
      "image/png": "[encoded data removed]",
      "text/plain": [
       "<Figure size 432x288 with 1 Axes>"
      ]
     },
     "metadata": {
      "needs_background": "light"
     },
     "output_type": "display_data"
    }
   ],
   "source": [
    "fig, ax = plt.subplots()\n",
    "ax.plot(y_train.values)\n",
    "ax.plot(predicciones_train_std)\n",
    "plt.title(\"Valores observados vs. predichos en train set\");"
   ]
  },
  {
   "cell_type": "markdown",
   "id": "294ab597",
   "metadata": {},
   "source": [
    "### Continuamos con las Predicciones es el subgrupo de datos de prueba"
   ]
  },
  {
   "cell_type": "code",
   "execution_count": 70,
   "id": "b5e564fd",
   "metadata": {},
   "outputs": [
    {
     "data": {
      "image/png": "[encoded data removed]",
      "text/plain": [
       "<Figure size 432x288 with 1 Axes>"
      ]
     },
     "metadata": {
      "needs_background": "light"
     },
     "output_type": "display_data"
    }
   ],
   "source": [
    "fig, ax = plt.subplots()\n",
    "ax.plot(y_test.values)\n",
    "ax.plot(predicciones_test_std)\n",
    "plt.title(\"Valores observados vs. predichos en test set\");"
   ]
  },
  {
   "cell_type": "markdown",
   "id": "87c347f1",
   "metadata": {},
   "source": [
    "### Extraer los coeficientes:"
   ]
  },
  {
   "cell_type": "code",
   "execution_count": 71,
   "id": "2e808222",
   "metadata": {},
   "outputs": [],
   "source": [
    "# Extraer las medidas de error:\n",
    "importancia = modelo_regresion_std.coef_ #Asignamos el método coef que permite mostrar los coeficientes de cada variable."
   ]
  },
  {
   "cell_type": "markdown",
   "id": "d8cbcee2",
   "metadata": {},
   "source": [
    "Para encontrar la importancia de las variables, tomamos al modelo entrenado: modelo_regresion_std.fit(X_train_std, y_train)\n",
    "Y le asignamos el método coef, en donde salen los coeficientes de cada variable, de acuerdo a lo siguiente: "
   ]
  },
  {
   "cell_type": "code",
   "execution_count": 74,
   "id": "aa19d6dc",
   "metadata": {},
   "outputs": [
    {
     "name": "stdout",
     "output_type": "stream",
     "text": [
      "Variable explicativa No. 0, Score: 0.00000\n",
      "Variable explicativa No. 1, Score: -75835.25094\n",
      "Variable explicativa No. 2, Score: 16839.90626\n",
      "Variable explicativa No. 3, Score: -22955.05564\n",
      "Variable explicativa No. 4, Score: 17830.94857\n",
      "Variable explicativa No. 5, Score: -10537.39791\n",
      "Variable explicativa No. 6, Score: -198775.62425\n"
     ]
    }
   ],
   "source": [
    "# Resumen\n",
    "for i,v in enumerate(importancia):\n",
    "    print('Variable explicativa No. %0d, Score: %.5f' % (i,v))"
   ]
  },
  {
   "cell_type": "markdown",
   "id": "7cdf6fcb",
   "metadata": {},
   "source": [
    "Luego de estándarizar se procede a gráficar para determinar las variables con mayor pendiente o impacto:"
   ]
  },
  {
   "cell_type": "code",
   "execution_count": 75,
   "id": "131c716a",
   "metadata": {},
   "outputs": [
    {
     "data": {
      "image/png": "[encoded data removed]",
      "text/plain": [
       "<Figure size 432x288 with 1 Axes>"
      ]
     },
     "metadata": {
      "needs_background": "light"
     },
     "output_type": "display_data"
    }
   ],
   "source": [
    "# Graficar la importancia o \"feature importance\"\n",
    "plt.bar([x for x in range(len(importancia))], importancia)\n",
    "plt.show()"
   ]
  },
  {
   "cell_type": "markdown",
   "id": "3042889a",
   "metadata": {},
   "source": [
    "* Luego de observar la gráfica anterior, que existen variables explicativas especificamente en la variable explicativa No. 1 con un Score de -75835.25094, variable explicativa No 3 con un Score de -22955.05564, la variable explicativa No 5 con Score de -10537.39791, y la variable No. 6 con un Score negativo de -198775.62425, esto significa que la variable explicativa hace que aumente la función de Tiendas_Venta.\n",
    "* La variable No. 0 es bastante baja por lo que no altera la métrica y los resultado.\n",
    "* La variable No.2 y 4 son representativas ya que tienen mayor poder explicativo."
   ]
  }
 ],
 "metadata": {
  "kernelspec": {
   "display_name": "Python 3 (ipykernel)",
   "language": "python",
   "name": "python3"
  },
  "language_info": {
   "codemirror_mode": {
    "name": "ipython",
    "version": 3
   },
   "file_extension": ".py",
   "mimetype": "text/x-python",
   "name": "python",
   "nbconvert_exporter": "python",
   "pygments_lexer": "ipython3",
   "version": "3.9.12"
  }
 },
 "nbformat": 4,
 "nbformat_minor": 5
}
